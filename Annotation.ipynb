{
 "cells": [
  {
   "cell_type": "code",
   "execution_count": 1,
   "id": "a22c8577",
   "metadata": {},
   "outputs": [],
   "source": [
    "import napari\n",
    "import numpy as np\n",
    "from tifffile import imread\n",
    "import tifffile\n",
    "import pandas as pd\n",
    "from tqdm import tqdm\n",
    "import numpy as np\n",
    "import matplotlib.path as mplPath\n",
    "from pathlib import Path\n",
    "from matplotlib import pyplot as plt"
   ]
  },
  {
   "cell_type": "markdown",
   "id": "a61aec94",
   "metadata": {},
   "source": [
    "### Load the crop you want to annotate "
   ]
  },
  {
   "cell_type": "code",
   "execution_count": 3,
   "id": "838ef2e2",
   "metadata": {},
   "outputs": [],
   "source": [
    "### load the different staining \n",
    "image_name = \"0_0_Cellbound1_4_crop4000_14_12.tif\"\n",
    "path_dapi_folder = Path(\"/home/tom/share/open_vizgen/HumanBreastCancerPatient1/crop4000v2/datasets_24_04_22_Cellbound1_4_nuclei_target/dapi/\")\n",
    "path_cyto1_folder = Path(\"/home/tom/share/open_vizgen/HumanBreastCancerPatient1/crop4000v2/datasets_24_04_22_Cellbound1_4_nuclei_target/cyto1/\")\n",
    "path_cyto2_folder = Path(\"/home/tom/share/open_vizgen/HumanBreastCancerPatient1/crop4000v2/datasets_24_04_22_Cellbound1_4_nuclei_target/cyto2/\")\n",
    "path_cyto3_folder = Path(\"/home/tom/share/open_vizgen/HumanBreastCancerPatient1/crop4000v2/datasets_24_04_22_Cellbound1_4_nuclei_target/cyto3/\")\n",
    "\n",
    "image = imread(path_dapi_folder / image_name)\n",
    "cyto1 = imread(path_cyto1_folder / image_name)\n",
    "cyto2 = imread(path_cyto2_folder / image_name)\n",
    "cyto3 = imread(path_cyto3_folder / image_name)    \n",
    "    "
   ]
  },
  {
   "cell_type": "code",
   "execution_count": 4,
   "id": "d4d3adb5",
   "metadata": {},
   "outputs": [
    {
     "name": "stderr",
     "output_type": "stream",
     "text": [
      "napari.manifest -> 'napari' could not be imported: Could not find file 'builtins.yaml' in module 'napari'\n"
     ]
    },
    {
     "data": {
      "text/plain": [
       "<Image layer 'cyto3' at 0x7ff9d80f5f70>"
      ]
     },
     "execution_count": 4,
     "metadata": {},
     "output_type": "execute_result"
    }
   ],
   "source": [
    "### vizualise + interactive anntotion with napari\n",
    "viewer = napari.Viewer()\n",
    "viewer.add_image(image, name='dapi')\n",
    "viewer.add_image(cyto1, name='cyto1')\n",
    "viewer.add_image(cyto2, name='cyto2')\n",
    "viewer.add_image(cyto3, name='cyto3')"
   ]
  },
  {
   "cell_type": "markdown",
   "id": "98922637",
   "metadata": {},
   "source": [
    "### use the shape layer for annotation\n",
    "https://napari.org/stable/howtos/layers/shapes.html"
   ]
  },
  {
   "cell_type": "code",
   "execution_count": 5,
   "id": "f0fe81e2",
   "metadata": {},
   "outputs": [],
   "source": [
    "def from_shape_layer_to_mask(viewer,\n",
    "                             layer_shape_name = \"Shapes [1]\",\n",
    "                            image_shape = (400, 400)\n",
    "                             ):\n",
    "    final_mask = np.zeros(image_shape, dtype=np.uint16)\n",
    "    for layer in  viewer.layers.__dict__[\"_list\"]:\n",
    "        if layer._name==layer_shape_name:\n",
    "            # Step 1: Retrieve the polygon coordinates\n",
    "            polygon = layer.data\n",
    "            # Step 2: Create a meshgrid\n",
    "            y, x = np.mgrid[:image.shape[0], :image.shape[1]]\n",
    "            # Step 3: Create a path object from the polygon coordinates\n",
    "            for index_cell in range(len(polygon)):\n",
    "                if polygon[index_cell].shape[-1] == 3:\n",
    "                    polygon[index_cell] = polygon[index_cell][:, 1:]\n",
    "                    print(\"3D shape detected, only the two last columns are kept 3D annotation are not supported yet\")\n",
    "                poly_path = mplPath.Path(polygon[index_cell])\n",
    "                # Step 4: Create a boolean mask\n",
    "                mask = poly_path.contains_points(np.vstack((x.flatten(), y.flatten())).T).reshape(x.shape)\n",
    "                # Step 5: Convert the boolean mask to an integer mask\n",
    "                mask = mask.astype(np.uint16).T\n",
    "                final_mask[mask>0] = index_cell+1\n",
    "    return final_mask"
   ]
  },
  {
   "cell_type": "markdown",
   "id": "6f8f829f",
   "metadata": {},
   "source": [
    "### save your annotation"
   ]
  },
  {
   "cell_type": "code",
   "execution_count": 9,
   "id": "ec8acf6f",
   "metadata": {},
   "outputs": [],
   "source": [
    "final_mask = from_shape_layer_to_mask(\n",
    "                    viewer,\n",
    "                    layer_shape_name = \"Shapes\",\n",
    "                    image_shape = image.shape,\n",
    "                     )\n",
    "path_to_save_annotation = Path(\"\")\n",
    "tifffile.imwrite(path_to_save_annotation / ('tom_' + image_name), final_mask.astype(np.uint16))\n"
   ]
  },
  {
   "cell_type": "markdown",
   "id": "c66e2843",
   "metadata": {},
   "source": [
    "### double check you annotation "
   ]
  },
  {
   "cell_type": "code",
   "execution_count": null,
   "id": "413f6c5a",
   "metadata": {},
   "outputs": [],
   "source": [
    "viewer.add_image(final_mask, name='final_mask')\n"
   ]
  }
 ],
 "metadata": {
  "kernelspec": {
   "display_name": "bigfish38",
   "language": "python",
   "name": "bigfish38"
  },
  "language_info": {
   "codemirror_mode": {
    "name": "ipython",
    "version": 3
   },
   "file_extension": ".py",
   "mimetype": "text/x-python",
   "name": "python",
   "nbconvert_exporter": "python",
   "pygments_lexer": "ipython3",
   "version": "3.8.12"
  }
 },
 "nbformat": 4,
 "nbformat_minor": 5
}
